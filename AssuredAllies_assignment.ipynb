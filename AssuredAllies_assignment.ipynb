{
 "cells": [
  {
   "cell_type": "markdown",
   "metadata": {},
   "source": [
    "# AssuredAllies home assignment\n",
    "# Miri Michaelli"
   ]
  },
  {
   "cell_type": "code",
   "execution_count": 392,
   "metadata": {},
   "outputs": [],
   "source": [
    "import pandas as pd\n",
    "import os\n",
    "from dateutil.relativedelta import relativedelta\n",
    "import matplotlib.pyplot as plt\n",
    "import numpy as np\n",
    "import scipy.stats as stats\n",
    "import warnings\n",
    "warnings.filterwarnings('ignore')\n"
   ]
  },
  {
   "attachments": {},
   "cell_type": "markdown",
   "metadata": {},
   "source": [
    "### data manipulation"
   ]
  },
  {
   "cell_type": "code",
   "execution_count": 284,
   "metadata": {},
   "outputs": [],
   "source": [
    "# read files:\n",
    "path_to_files = \"/Users/mirimichaeli/projects/AssuredAllies/\"\n",
    "members = pd.read_excel(os.path.join(path_to_files, \"members.xlsx\"), sheet_name=\"members_data\") # 1000 members\n",
    "claims = pd.read_excel(os.path.join(path_to_files, \"claims.xlsx\"), sheet_name=\"claims_data\") # 242 unique (no members with several claims)\n",
    "reachouts = pd.read_excel(os.path.join(path_to_files, \"reachouts.xlsx\"), sheet_name=\"reachouts_data\") # can be several reachouts per user, 662 unique ids"
   ]
  },
  {
   "cell_type": "code",
   "execution_count": null,
   "metadata": {},
   "outputs": [],
   "source": [
    "# Program launch date - 2045-10-07\n",
    "launch_date = pd.Timestamp('2045-10-07')"
   ]
  },
  {
   "cell_type": "code",
   "execution_count": 287,
   "metadata": {},
   "outputs": [],
   "source": [
    "# add a flag to note if a claim/ reachout was made before of after the launch:\n",
    "claims['claim_after_program_launch'] = claims['claim_initial_inquiry_date'] >= pd.Timestamp('2045-10-07') \n",
    "reachouts['reachout_after_program_launch'] = reachouts['reachout_date'] >= pd.Timestamp('2045-10-07')\n"
   ]
  },
  {
   "cell_type": "code",
   "execution_count": 288,
   "metadata": {},
   "outputs": [],
   "source": [
    "# print(\n",
    "#     len(set(reachouts.internal_id)),\n",
    "#     len(set(intervention_group.internal_id)),\n",
    "#     len(set(reachouts.internal_id) - set(intervention_group.internal_id)), # reachouts have 199 ids not from intervention group\n",
    "#     len(set(reachouts.internal_id) - set(control_group.internal_id)) # the other reachouts are not from the control group\n",
    "# )\n",
    "# 662 500 199 662\n"
   ]
  },
  {
   "cell_type": "code",
   "execution_count": 289,
   "metadata": {},
   "outputs": [],
   "source": [
    "intervention_group = members[members['group'] == 'intervention'] # 500\n",
    "control_group = members[members['group'] == 'control'] # 500\n",
    "# intervention_group.head()"
   ]
  },
  {
   "cell_type": "code",
   "execution_count": 290,
   "metadata": {},
   "outputs": [],
   "source": [
    "# divide the members into groups of those with intervention before program launch and after program launch.\n",
    "intervention_with_reachouts = intervention_group.merge(reachouts, on='internal_id', how='left')\n",
    "intervention_before_launch = intervention_with_reachouts[intervention_with_reachouts['reachout_after_program_launch'] == False] # 323 for 221 members\n",
    "intervention_after_launch = intervention_with_reachouts[intervention_with_reachouts['reachout_after_program_launch'] == True] # 2334 for 450 members\n"
   ]
  },
  {
   "cell_type": "code",
   "execution_count": 291,
   "metadata": {},
   "outputs": [],
   "source": [
    "# groups are: 242 members with reachouts only after launch, 13 members with reachouts only before launch, \n",
    "# 208 members are in the intersection- have reachouts both before and after launch, I decided not to use these cases here.\n",
    "# total: 463 members with reachouts out of the 500 members in the intervention group\n",
    "\n",
    "members_with_reachouts_only_after_launch = list(set(intervention_after_launch['internal_id']) - set(intervention_before_launch['internal_id'])) # 242\n",
    "members_with_reachouts_only_before_launch = list(set(intervention_before_launch['internal_id']) - set(intervention_after_launch['internal_id'])) # 13\n",
    "\n",
    "# filter the df by the specific members in each group from the lists above:\n",
    "intervention_only_after_launch = intervention_after_launch.loc[intervention_after_launch['internal_id'].isin(\n",
    "    members_with_reachouts_only_after_launch)]\n",
    "intervention_only_before_launch = intervention_before_launch.loc[intervention_before_launch['internal_id'].isin(\n",
    "    members_with_reachouts_only_before_launch)]\n"
   ]
  },
  {
   "cell_type": "code",
   "execution_count": null,
   "metadata": {},
   "outputs": [],
   "source": [
    "# due to the low number of members with interventions only before the launch, I will include members from the intersection group, but only members that \n",
    "# the new intervention (after the launch date), is more than 3 months after the last \"old\" intervention: (215 members: 13+202)\n",
    "combined_reachouts = reachouts[reachouts['reachout_after_program_launch'] == False].merge(\n",
    "    reachouts[reachouts['reachout_after_program_launch'] == True], on='internal_id', how='outer')\n",
    "combined_reachouts = combined_reachouts[combined_reachouts['reachout_after_program_launch_x'].notna() & \n",
    "                                         combined_reachouts['reachout_after_program_launch_y'].notna()]\n",
    "combined_reachouts['more_than_3_months_between_intervention_types'] = \\\n",
    "    combined_reachouts['reachout_date_y'] > combined_reachouts['reachout_date_x'] + pd.DateOffset(months=3)\n",
    "members_with_both_but_ok_to_include_in_before_group = combined_reachouts[combined_reachouts['more_than_3_months_between_intervention_types'] == True]['internal_id'].unique() # 202 members\n",
    "members_with_reachouts_before_launch = list(set(members_with_reachouts_only_before_launch).union(set(members_with_both_but_ok_to_include_in_before_group)))\n",
    "\n",
    "intervention_before_launch = intervention_with_reachouts.loc[intervention_with_reachouts['internal_id'].isin(members_with_reachouts_before_launch)]\n"
   ]
  },
  {
   "cell_type": "code",
   "execution_count": 292,
   "metadata": {},
   "outputs": [],
   "source": [
    "# take only 3 months range after the launch date for the after launch group:\n",
    "three_months_after_launch = launch_date + relativedelta(months=+3)\n",
    "intervention_3_months_after_launch = intervention_only_after_launch[intervention_only_after_launch['reachout_date'] <= three_months_after_launch] \n",
    "# len(intervention_3_months_after_launch.internal_id.unique())"
   ]
  },
  {
   "cell_type": "code",
   "execution_count": null,
   "metadata": {},
   "outputs": [],
   "source": [
    "## merge each of the 2 df with claims to calculate claim rate:\n",
    "\n",
    "# for before-launch group:\n",
    "# check how many claims in the 3-months range after an intervention:\n",
    "claims_of_3_months_before_launch = intervention_before_launch.merge(claims, on='ph_id', how='left', suffixes=[None,'_claims'])\n",
    "before_launch_claims = claims_of_3_months_before_launch[claims_of_3_months_before_launch['claim_start_date'] <= \n",
    "                                                        pd.to_datetime(claims_of_3_months_before_launch['reachout_date']) + pd.DateOffset(months=3)] \n",
    "number_of_before_claims = len(before_launch_claims) # 101 claims\n",
    "\n",
    "\n",
    "# for after-launch:\n",
    "# filter claims issued only after a first reachout has been made to member, otherwise, it's irrelevant:\n",
    "first_intervention_3_months_after_launch = intervention_3_months_after_launch.sort_values('reachout_date').groupby('internal_id').first()\n",
    "first_intervention_3_months_after_launch.reset_index(inplace=True)\n",
    "claims_of_3_months_after_launch = first_intervention_3_months_after_launch.merge(claims, on='ph_id', how='left', suffixes=[None,'_claims'])\n",
    "after_launch_claims = claims_of_3_months_after_launch[claims_of_3_months_after_launch['reachout_date'] <= \n",
    "                                                      claims_of_3_months_after_launch['claim_start_date']] # 33 claims, might contain claims more than 3 months after reachouts\n",
    "\n",
    "# another option is to take only claims that are in the range of 3 months after one of the reachouts to a member:\n",
    "claims_of_3_months_after_launch = intervention_3_months_after_launch.merge(claims, on='ph_id', how='left',suffixes=[None,'_claims'])\n",
    "after_launch_claims_max_3_months = claims_of_3_months_after_launch[(claims_of_3_months_after_launch['reachout_date'] <= \n",
    "                                                                    claims_of_3_months_after_launch['claim_start_date']) &\n",
    "                                      (claims_of_3_months_after_launch['claim_start_date'] <= \n",
    "                                       pd.to_datetime(claims_of_3_months_after_launch['reachout_date']) + pd.DateOffset(months=3))] # 12\n",
    "\n",
    "\n",
    "number_of_after_claims = len(after_launch_claims) \n",
    "number_of_after_claims_max_3_months = len(after_launch_claims_max_3_months.internal_id.unique())\n"
   ]
  },
  {
   "attachments": {},
   "cell_type": "markdown",
   "metadata": {},
   "source": [
    "### calculate claim rates (Claim incidence rate: number of claims, normalized by group size and measurement duration):\n"
   ]
  },
  {
   "cell_type": "code",
   "execution_count": 476,
   "metadata": {},
   "outputs": [],
   "source": [
    "the_before_period =  max(before_launch_claims['claim_start_date']) - min(before_launch_claims['claim_start_date']) # 770\n",
    "the_after_period = max(after_launch_claims_max_3_months['claim_start_date']) - min(after_launch_claims_max_3_months['claim_start_date']) # 137\n",
    "# claim incidence rate normalized by number of members in the groups and by days in the periods:\n",
    "claim_incidence_rate_before_launch = number_of_before_claims*365/(len(members_with_reachouts_only_before_launch)*the_before_period.days)\n",
    "claim_incidence_rate_after_launch = number_of_after_claims_max_3_months*365/(len(intervention_3_months_after_launch['internal_id'].unique())*the_after_period.days)"
   ]
  },
  {
   "cell_type": "code",
   "execution_count": 477,
   "metadata": {},
   "outputs": [
    {
     "name": "stdout",
     "output_type": "stream",
     "text": [
      "claim inceidence rate before launch: 0.6046416270296867 in 4690 days.\n",
      "claim inceidence rate after launch: 0.1321107558665621 in 137 days.\n"
     ]
    }
   ],
   "source": [
    "print(\n",
    "    'claim inceidence rate before launch:',\n",
    "    claim_incidence_rate_before_launch,\n",
    "    f'in {the_before_period.days} days.'\n",
    "    '\\nclaim inceidence rate after launch:',\n",
    "    claim_incidence_rate_after_launch,\n",
    "    f'in {the_after_period.days} days.'\n",
    "\n",
    "    )"
   ]
  },
  {
   "attachments": {},
   "cell_type": "markdown",
   "metadata": {},
   "source": [
    "### distribution of claims per month from first reachout:\n"
   ]
  },
  {
   "cell_type": "code",
   "execution_count": 493,
   "metadata": {},
   "outputs": [
    {
     "data": {
      "image/png": "[encoded data removed]",
      "text/plain": [
       "<Figure size 640x480 with 1 Axes>"
      ]
     },
     "metadata": {},
     "output_type": "display_data"
    }
   ],
   "source": [
    "\n",
    "## for before launch:\n",
    "before_launch_claims.dropna(subset=['claim_start_date'], inplace=True)\n",
    "before_launch_claims['reachout_date'] = pd.to_datetime(before_launch_claims['reachout_date'])\n",
    "before_launch_claims['claim_start_date'] = pd.to_datetime(before_launch_claims['claim_start_date'])\n",
    "before_launch_claims['time_difference'] = (before_launch_claims['claim_start_date'] - before_launch_claims.groupby('internal_id')['reachout_date'].transform('min')).dt.days // 30\n",
    "# remove duplicates to get unique member IDs\n",
    "unique_ids = before_launch_claims.drop_duplicates(subset='internal_id')\n",
    "\n",
    "# calculate the total number of claims to preent the graph as percentages\n",
    "total_claims = unique_ids['internal_id'].count()\n",
    "\n",
    "# group the data by time difference and count the number of unique member IDs\n",
    "results = (unique_ids.groupby('time_difference')['internal_id'].count() / total_claims) * 100\n",
    "\n",
    "# create the bar plot\n",
    "plt.bar(results.index, results.values)\n",
    "plt.xlabel('Months from first reachout')\n",
    "plt.ylabel('Percentage of Ccaims')\n",
    "plt.title('Number of claims per month after reachout - Before Launch')\n",
    "plt.xlim(left=0) # there are claims which were made before any intervention..\n",
    "plt.show()"
   ]
  },
  {
   "cell_type": "code",
   "execution_count": 482,
   "metadata": {},
   "outputs": [
    {
     "data": {
      "image/png": "[encoded data removed]",
      "text/plain": [
       "<Figure size 640x480 with 1 Axes>"
      ]
     },
     "metadata": {},
     "output_type": "display_data"
    }
   ],
   "source": [
    "\n",
    "## for after launch:\n",
    "claims_of_3_months_after_launch.dropna(subset=['claim_start_date'], inplace=True)\n",
    "claims_of_3_months_after_launch['reachout_date'] = pd.to_datetime(claims_of_3_months_after_launch['reachout_date'])\n",
    "claims_of_3_months_after_launch['claim_start_date'] = pd.to_datetime(claims_of_3_months_after_launch['claim_start_date'])\n",
    "claims_of_3_months_after_launch['time_difference'] = (claims_of_3_months_after_launch['claim_start_date'] - claims_of_3_months_after_launch.groupby('internal_id')['reachout_date'].transform('min')).dt.days // 30\n",
    "\n",
    "# remove duplicates to get unique member IDs\n",
    "unique_ids = claims_of_3_months_after_launch.drop_duplicates(subset='internal_id')\n",
    "\n",
    "# calculate the total number of claims to preent the graph as percentages\n",
    "total_claims = unique_ids['internal_id'].count()\n",
    "\n",
    "# group the data by time difference and count the number of unique member IDs\n",
    "results = (unique_ids.groupby('time_difference')['internal_id'].count() / total_claims) * 100\n",
    "\n",
    "\n",
    "# create the bar plot\n",
    "plt.bar(results.index, results.values)\n",
    "plt.xlabel('Months from first reachout')\n",
    "plt.ylabel('Percentage of Ccaims')\n",
    "plt.title('Number of claims per month after reachout - After Launch')\n",
    "plt.xlim(left=0) # there are claims which were made before any intervention..\n",
    "plt.show()\n",
    "\n"
   ]
  },
  {
   "attachments": {},
   "cell_type": "markdown",
   "metadata": {},
   "source": [
    "### statistical test to show whether the two groups differ:"
   ]
  },
  {
   "cell_type": "code",
   "execution_count": 431,
   "metadata": {},
   "outputs": [
    {
     "data": {
      "text/html": [
       "<div>\n",
       "<style scoped>\n",
       "    .dataframe tbody tr th:only-of-type {\n",
       "        vertical-align: middle;\n",
       "    }\n",
       "\n",
       "    .dataframe tbody tr th {\n",
       "        vertical-align: top;\n",
       "    }\n",
       "\n",
       "    .dataframe thead th {\n",
       "        text-align: right;\n",
       "    }\n",
       "</style>\n",
       "<table border=\"1\" class=\"dataframe\">\n",
       "  <thead>\n",
       "    <tr style=\"text-align: right;\">\n",
       "      <th></th>\n",
       "      <th>is_intervention</th>\n",
       "      <th>treatment_group</th>\n",
       "      <th>has_claim</th>\n",
       "    </tr>\n",
       "  </thead>\n",
       "  <tbody>\n",
       "    <tr>\n",
       "      <th>0</th>\n",
       "      <td>1</td>\n",
       "      <td>0</td>\n",
       "      <td>0</td>\n",
       "    </tr>\n",
       "    <tr>\n",
       "      <th>1</th>\n",
       "      <td>1</td>\n",
       "      <td>0</td>\n",
       "      <td>0</td>\n",
       "    </tr>\n",
       "    <tr>\n",
       "      <th>2</th>\n",
       "      <td>1</td>\n",
       "      <td>1</td>\n",
       "      <td>0</td>\n",
       "    </tr>\n",
       "    <tr>\n",
       "      <th>3</th>\n",
       "      <td>1</td>\n",
       "      <td>0</td>\n",
       "      <td>0</td>\n",
       "    </tr>\n",
       "    <tr>\n",
       "      <th>4</th>\n",
       "      <td>1</td>\n",
       "      <td>1</td>\n",
       "      <td>1</td>\n",
       "    </tr>\n",
       "    <tr>\n",
       "      <th>...</th>\n",
       "      <td>...</td>\n",
       "      <td>...</td>\n",
       "      <td>...</td>\n",
       "    </tr>\n",
       "    <tr>\n",
       "      <th>995</th>\n",
       "      <td>0</td>\n",
       "      <td>0</td>\n",
       "      <td>0</td>\n",
       "    </tr>\n",
       "    <tr>\n",
       "      <th>996</th>\n",
       "      <td>0</td>\n",
       "      <td>0</td>\n",
       "      <td>0</td>\n",
       "    </tr>\n",
       "    <tr>\n",
       "      <th>997</th>\n",
       "      <td>0</td>\n",
       "      <td>0</td>\n",
       "      <td>0</td>\n",
       "    </tr>\n",
       "    <tr>\n",
       "      <th>998</th>\n",
       "      <td>0</td>\n",
       "      <td>0</td>\n",
       "      <td>0</td>\n",
       "    </tr>\n",
       "    <tr>\n",
       "      <th>999</th>\n",
       "      <td>0</td>\n",
       "      <td>0</td>\n",
       "      <td>1</td>\n",
       "    </tr>\n",
       "  </tbody>\n",
       "</table>\n",
       "<p>1000 rows × 3 columns</p>\n",
       "</div>"
      ],
      "text/plain": [
       "     is_intervention  treatment_group  has_claim\n",
       "0                  1                0          0\n",
       "1                  1                0          0\n",
       "2                  1                1          0\n",
       "3                  1                0          0\n",
       "4                  1                1          1\n",
       "..               ...              ...        ...\n",
       "995                0                0          0\n",
       "996                0                0          0\n",
       "997                0                0          0\n",
       "998                0                0          0\n",
       "999                0                0          1\n",
       "\n",
       "[1000 rows x 3 columns]"
      ]
     },
     "execution_count": 431,
     "metadata": {},
     "output_type": "execute_result"
    }
   ],
   "source": [
    "# binary table of all states per member\n",
    "members['is_intervention'] = np.where(members['group']== 'intervention', 1, 0)\n",
    "members['treatment_group'] = np.where(members['internal_id'].isin(members_with_reachouts_only_after_launch), 1, 0) # True if after launch\n",
    "members['has_claim'] = np.where(members['ph_id'].isin(claims['ph_id']), 1, 0)\n",
    "data_for_test = members[['is_intervention','treatment_group','has_claim']]\n",
    "data_for_test"
   ]
  },
  {
   "attachments": {},
   "cell_type": "markdown",
   "metadata": {},
   "source": [
    "### check significance of the rate difference by CI"
   ]
  },
  {
   "cell_type": "code",
   "execution_count": 488,
   "metadata": {},
   "outputs": [
    {
     "name": "stdout",
     "output_type": "stream",
     "text": [
      "Confidence Interval: [-0.6100, -0.3505]\n"
     ]
    },
    {
     "data": {
      "text/plain": [
       "-0.48027164258639854"
      ]
     },
     "execution_count": 488,
     "metadata": {},
     "output_type": "execute_result"
    }
   ],
   "source": [
    "\n",
    "# the standard deviation for each group\n",
    "std_dev_group1 = np.sqrt(claim_incidence_rate_before_launch * (1 - claim_incidence_rate_before_launch))\n",
    "std_dev_group2 = np.sqrt(claim_incidence_rate_after_launch * (1 - claim_incidence_rate_after_launch))\n",
    "\n",
    "# the standard error for each group\n",
    "std_error_group1 = std_dev_group1 / np.sqrt(len(members_with_reachouts_only_before_launch))\n",
    "std_error_group2 = std_dev_group2 / np.sqrt(len(intervention_3_months_after_launch['internal_id'].unique()))\n",
    "\n",
    "# set the desired level of confidence\n",
    "confidence_level = 0.95\n",
    "\n",
    "# the critical value from the standard normal distribution\n",
    "critical_value = stats.norm.ppf((1 + confidence_level) / 2)\n",
    "\n",
    "# the margin of error\n",
    "margin_of_error = critical_value * np.sqrt(std_error_group1**2 + std_error_group2**2)\n",
    "\n",
    "# the confidence interval\n",
    "difference_rates = claim_incidence_rate_before_launch - claim_incidence_rate_after_launch\n",
    "lower_bound = difference_rates - margin_of_error\n",
    "upper_bound = difference_rates + margin_of_error\n",
    "\n",
    "print(f'Confidence Interval: {lower_bound}, {upper_bound}')\n"
   ]
  },
  {
   "attachments": {},
   "cell_type": "markdown",
   "metadata": {},
   "source": [
    "### visualization:"
   ]
  },
  {
   "cell_type": "code",
   "execution_count": 492,
   "metadata": {},
   "outputs": [
    {
     "data": {
      "image/png": "[encoded data removed]",
      "text/plain": [
       "<Figure size 640x480 with 1 Axes>"
      ]
     },
     "metadata": {},
     "output_type": "display_data"
    }
   ],
   "source": [
    "\n",
    "plt.axhline(y=lower_bound, color='red', linestyle='--', label='CI Lower Bound')\n",
    "plt.axhline(y=upper_bound, color='red', linestyle='--', label='CI Upper Bound')\n",
    "\n",
    "# plot the actual rate difference\n",
    "plt.axhline(y=difference_rates, color='blue', linestyle='-', label='Actual Difference')\n",
    "\n",
    "# y-axis limits\n",
    "plt.ylim(lower_bound - 0.1, upper_bound + 0.1)\n",
    "\n",
    "# labels and legend\n",
    "plt.xlabel('Rate Difference')\n",
    "plt.ylabel('Values')\n",
    "plt.legend()\n",
    "\n",
    "# text annotations for the values\n",
    "plt.text(0.1, lower_bound + 0.01, f'{lower_bound:.4f}', color='red')\n",
    "plt.text(0.1, upper_bound - 0.01, f'{upper_bound:.4f}', color='red')\n",
    "plt.text(0.1, difference_rates, f'{difference_rates:.4f}', color='blue')\n",
    "plt.title('Confidence intervals of claim incidence rates')\n",
    "\n",
    "plt.show()"
   ]
  },
  {
   "attachments": {},
   "cell_type": "markdown",
   "metadata": {},
   "source": [
    "### calculate the claim rates for control groups:"
   ]
  },
  {
   "cell_type": "code",
   "execution_count": 485,
   "metadata": {},
   "outputs": [],
   "source": [
    "# 1. all control members as in: control_group\n",
    "# 2. claims before launch_date\n",
    "# 3. claims after launch_date (and for 3 months)\n",
    "\n",
    "claims_control_group = control_group.merge(claims, on='ph_id', how='left', suffixes=[None,'_claims'])\n",
    "claims_control_group_before = claims_control_group[claims_control_group['claim_start_date'] <= launch_date]\n",
    "claims_control_group_after = claims_control_group[claims_control_group['claim_start_date'] > launch_date]\n",
    "\n",
    "number_of_control_claims = sum(claims_control_group['claim_start_date'].notna()) # 89\n",
    "number_of_control_claims_before_launch = len(claims_control_group_before) # 23\n",
    "number_of_control_claims_after_launch = len(claims_control_group_after) # 66\n",
    "number_of_control_claims_3_months_after_launch = len(claims_control_group[(claims_control_group['claim_start_date'] > launch_date) &\n",
    "                                                                          (claims_control_group['claim_start_date'] <= three_months)]) # 6\n",
    "\n",
    "# calculate claim rates (Claim incidence rate: number of claims, normalized by group size and measurement duration):\n",
    "\n",
    "the_before_period =  max(claims_control_group_before['claim_start_date']) - min(claims_control_group_before['claim_start_date']) # 7993 days\n",
    "the_after_period = max(claims_control_group_after['claim_start_date']) - min(claims_control_group_after['claim_start_date']) # 694 days\n",
    "# claim incidence rate normalized by number of members in the groups and by days in the periods:\n",
    "claim_incidence_rate_before_launch = number_of_control_claims_before_launch*365/(len(claims_control_group_before['internal_id'].unique())*the_before_period.days)\n",
    "claim_incidence_rate_after_launch = number_of_control_claims_after_launch*365/(len(claims_control_group_after['internal_id'].unique())*the_after_period.days)\n",
    "\n",
    "claim_rate_throughout = number_of_control_claims*365/(len(claims_control_group['internal_id'].unique())* \\\n",
    "                                                      (max(claims_control_group['claim_start_date']) - min(claims_control_group['claim_start_date'])).days)\n"
   ]
  },
  {
   "cell_type": "code",
   "execution_count": 486,
   "metadata": {},
   "outputs": [
    {
     "name": "stdout",
     "output_type": "stream",
     "text": [
      "Controls:\n",
      "claim inceidence rate before launch: 0.04566495683723258 in 7993 days.\n",
      "claim inceidence rate after launch: 0.5259365994236311 in 694 days. \n",
      "claim incidence rate throughout the program: 0.007444711813910852\n"
     ]
    }
   ],
   "source": [
    "print(\n",
    "    'Controls:\\n'\n",
    "    'claim inceidence rate before launch:',\n",
    "    claim_incidence_rate_before_launch,\n",
    "    f'in {the_before_period.days} days.'\n",
    "    '\\nclaim inceidence rate after launch:',\n",
    "    claim_incidence_rate_after_launch,\n",
    "    f'in {the_after_period.days} days.',\n",
    "    '\\nclaim incidence rate throughout the program:',\n",
    "    claim_rate_throughout\n",
    "    )"
   ]
  }
 ],
 "metadata": {
  "kernelspec": {
   "display_name": "Python 3",
   "language": "python",
   "name": "python3"
  },
  "language_info": {
   "codemirror_mode": {
    "name": "ipython",
    "version": 3
   },
   "file_extension": ".py",
   "mimetype": "text/x-python",
   "name": "python",
   "nbconvert_exporter": "python",
   "pygments_lexer": "ipython3",
   "version": "3.11.4"
  },
  "orig_nbformat": 4
 },
 "nbformat": 4,
 "nbformat_minor": 2
}
